{
  "cells": [
    {
      "cell_type": "code",
      "execution_count": 1,
      "metadata": {
        "id": "SFdvpEoOEM2r",
        "colab": {
          "base_uri": "https://localhost:8080/"
        },
        "outputId": "e992a5c2-6413-472c-ffd3-c93b2d4f2886"
      },
      "outputs": [
        {
          "output_type": "stream",
          "name": "stdout",
          "text": [
            "Thu Feb  2 07:14:32 2023       \n",
            "+-----------------------------------------------------------------------------+\n",
            "| NVIDIA-SMI 510.47.03    Driver Version: 510.47.03    CUDA Version: 11.6     |\n",
            "|-------------------------------+----------------------+----------------------+\n",
            "| GPU  Name        Persistence-M| Bus-Id        Disp.A | Volatile Uncorr. ECC |\n",
            "| Fan  Temp  Perf  Pwr:Usage/Cap|         Memory-Usage | GPU-Util  Compute M. |\n",
            "|                               |                      |               MIG M. |\n",
            "|===============================+======================+======================|\n",
            "|   0  NVIDIA A100-SXM...  Off  | 00000000:00:04.0 Off |                    0 |\n",
            "| N/A   37C    P0    52W / 400W |      0MiB / 40960MiB |      0%      Default |\n",
            "|                               |                      |             Disabled |\n",
            "+-------------------------------+----------------------+----------------------+\n",
            "                                                                               \n",
            "+-----------------------------------------------------------------------------+\n",
            "| Processes:                                                                  |\n",
            "|  GPU   GI   CI        PID   Type   Process name                  GPU Memory |\n",
            "|        ID   ID                                                   Usage      |\n",
            "|=============================================================================|\n",
            "|  No running processes found                                                 |\n",
            "+-----------------------------------------------------------------------------+\n"
          ]
        }
      ],
      "source": [
        "!nvidia-smi"
      ]
    },
    {
      "cell_type": "code",
      "source": [
        "from google.colab import drive\n",
        "drive.mount('/content/drive')"
      ],
      "metadata": {
        "id": "Wdwvg5F1sFXr"
      },
      "execution_count": null,
      "outputs": []
    },
    {
      "cell_type": "markdown",
      "source": [
        "# **1. Get code and Data test**"
      ],
      "metadata": {
        "id": "-e5mXTC87aIE"
      }
    },
    {
      "cell_type": "code",
      "source": [
        "# !git clone https://github.com/manhhv87/automatic-ecg-diagnosis.git\n",
        "!git clone https://github.com/antonior92/ecg-age-prediction.git"
      ],
      "metadata": {
        "colab": {
          "base_uri": "https://localhost:8080/"
        },
        "id": "ZmogKahc7Xcy",
        "outputId": "1233c53b-3e45-49a4-9c11-1adcf4ce55ee"
      },
      "execution_count": 5,
      "outputs": [
        {
          "output_type": "stream",
          "name": "stdout",
          "text": [
            "Cloning into 'ecg-age-prediction'...\n",
            "remote: Enumerating objects: 52, done.\u001b[K\n",
            "remote: Counting objects: 100% (22/22), done.\u001b[K\n",
            "remote: Compressing objects: 100% (9/9), done.\u001b[K\n",
            "remote: Total 52 (delta 13), reused 13 (delta 13), pack-reused 30\u001b[K\n",
            "Unpacking objects: 100% (52/52), 22.81 KiB | 141.00 KiB/s, done.\n"
          ]
        }
      ]
    },
    {
      "cell_type": "code",
      "source": [
        "# !pip install -r /content/automatic-ecg-diagnosis/requirements.txt\n",
        "!pip install -r /content/ecg-age-prediction/requirements.txt"
      ],
      "metadata": {
        "colab": {
          "base_uri": "https://localhost:8080/"
        },
        "id": "Md6nJwvLNcCn",
        "outputId": "a3274342-fc95-4234-ddfb-3d79ece7b82e"
      },
      "execution_count": 7,
      "outputs": [
        {
          "output_type": "stream",
          "name": "stdout",
          "text": [
            "Looking in indexes: https://pypi.org/simple, https://us-python.pkg.dev/colab-wheels/public/simple/\n",
            "Requirement already satisfied: numpy>=1.14.3 in /usr/local/lib/python3.8/dist-packages (from -r /content/ecg-age-prediction/requirements.txt (line 1)) (1.21.6)\n",
            "Requirement already satisfied: pandas>=0.22 in /usr/local/lib/python3.8/dist-packages (from -r /content/ecg-age-prediction/requirements.txt (line 2)) (1.3.5)\n",
            "Requirement already satisfied: h5py>=2.8 in /usr/local/lib/python3.8/dist-packages (from -r /content/ecg-age-prediction/requirements.txt (line 3)) (3.1.0)\n",
            "Requirement already satisfied: torch>=1.2 in /usr/local/lib/python3.8/dist-packages (from -r /content/ecg-age-prediction/requirements.txt (line 4)) (1.13.1+cu116)\n",
            "Requirement already satisfied: tqdm>=4.26 in /usr/local/lib/python3.8/dist-packages (from -r /content/ecg-age-prediction/requirements.txt (line 5)) (4.64.1)\n",
            "Requirement already satisfied: seaborn>=0.9 in /usr/local/lib/python3.8/dist-packages (from -r /content/ecg-age-prediction/requirements.txt (line 6)) (0.11.2)\n",
            "Requirement already satisfied: matplotlib>=3.2 in /usr/local/lib/python3.8/dist-packages (from -r /content/ecg-age-prediction/requirements.txt (line 7)) (3.2.2)\n",
            "Requirement already satisfied: python-dateutil>=2.7.3 in /usr/local/lib/python3.8/dist-packages (from pandas>=0.22->-r /content/ecg-age-prediction/requirements.txt (line 2)) (2.8.2)\n",
            "Requirement already satisfied: pytz>=2017.3 in /usr/local/lib/python3.8/dist-packages (from pandas>=0.22->-r /content/ecg-age-prediction/requirements.txt (line 2)) (2022.7)\n",
            "Requirement already satisfied: typing-extensions in /usr/local/lib/python3.8/dist-packages (from torch>=1.2->-r /content/ecg-age-prediction/requirements.txt (line 4)) (4.4.0)\n",
            "Requirement already satisfied: scipy>=1.0 in /usr/local/lib/python3.8/dist-packages (from seaborn>=0.9->-r /content/ecg-age-prediction/requirements.txt (line 6)) (1.7.3)\n",
            "Requirement already satisfied: pyparsing!=2.0.4,!=2.1.2,!=2.1.6,>=2.0.1 in /usr/local/lib/python3.8/dist-packages (from matplotlib>=3.2->-r /content/ecg-age-prediction/requirements.txt (line 7)) (3.0.9)\n",
            "Requirement already satisfied: cycler>=0.10 in /usr/local/lib/python3.8/dist-packages (from matplotlib>=3.2->-r /content/ecg-age-prediction/requirements.txt (line 7)) (0.11.0)\n",
            "Requirement already satisfied: kiwisolver>=1.0.1 in /usr/local/lib/python3.8/dist-packages (from matplotlib>=3.2->-r /content/ecg-age-prediction/requirements.txt (line 7)) (1.4.4)\n",
            "Requirement already satisfied: six>=1.5 in /usr/local/lib/python3.8/dist-packages (from python-dateutil>=2.7.3->pandas>=0.22->-r /content/ecg-age-prediction/requirements.txt (line 2)) (1.15.0)\n"
          ]
        }
      ]
    },
    {
      "cell_type": "code",
      "source": [
        "!wget https://www.dropbox.com/s/p3vd3plcbu9sf1o/data.zip?dl=0 -O data.zip"
      ],
      "metadata": {
        "id": "sFQ-baK59xbv"
      },
      "execution_count": null,
      "outputs": []
    },
    {
      "cell_type": "code",
      "source": [
        "!unzip /content/data.zip -d /content/automatic-ecg-diagnosis"
      ],
      "metadata": {
        "id": "p7K0OCYSRyN5"
      },
      "execution_count": null,
      "outputs": []
    },
    {
      "cell_type": "markdown",
      "source": [
        "# **1. Get data from Google Cloude**"
      ],
      "metadata": {
        "id": "S0i1RBter8RM"
      }
    },
    {
      "cell_type": "code",
      "source": [
        "from google.colab import auth\n",
        "auth.authenticate_user()"
      ],
      "metadata": {
        "id": "A5Q1p5AvpM_J"
      },
      "execution_count": 1,
      "outputs": []
    },
    {
      "cell_type": "code",
      "source": [
        "project_id = 'automatic-ecg-diagnosis'"
      ],
      "metadata": {
        "id": "mBWfYIy3634Q"
      },
      "execution_count": 2,
      "outputs": []
    },
    {
      "cell_type": "code",
      "source": [
        "!gcloud config set project {project_id}"
      ],
      "metadata": {
        "id": "NALswq_qpNdo",
        "colab": {
          "base_uri": "https://localhost:8080/"
        },
        "outputId": "2c5a1c01-da5d-4e8e-e3f2-bffe2287cd48"
      },
      "execution_count": 3,
      "outputs": [
        {
          "output_type": "stream",
          "name": "stdout",
          "text": [
            "Updated property [core/project].\n"
          ]
        }
      ]
    },
    {
      "cell_type": "code",
      "source": [
        "!echo \"deb http://packages.cloud.google.com/apt gcsfuse-`lsb_release -c -s` main\" | sudo tee /etc/apt/sources.list.d/gcsfuse.list\n",
        "!curl https://packages.cloud.google.com/apt/doc/apt-key.gpg | sudo apt-key add -\n",
        "!sudo apt-get -y -q update\n",
        "!sudo apt-get -y -q install gcsfuse"
      ],
      "metadata": {
        "id": "rhqogPEIrf8o",
        "colab": {
          "base_uri": "https://localhost:8080/"
        },
        "outputId": "416d4f62-8b01-4731-a8ef-471dacfd45df"
      },
      "execution_count": 4,
      "outputs": [
        {
          "output_type": "stream",
          "name": "stdout",
          "text": [
            "deb http://packages.cloud.google.com/apt gcsfuse-focal main\n",
            "  % Total    % Received % Xferd  Average Speed   Time    Time     Time  Current\n",
            "                                 Dload  Upload   Total   Spent    Left  Speed\n",
            "100  1210  100  1210    0     0  80666      0 --:--:-- --:--:-- --:--:-- 80666\n",
            "OK\n",
            "Get:1 http://packages.cloud.google.com/apt gcsfuse-focal InRelease [5,002 B]\n",
            "Get:2 https://cloud.r-project.org/bin/linux/ubuntu focal-cran40/ InRelease [3,622 B]\n",
            "Get:3 http://packages.cloud.google.com/apt gcsfuse-focal/main amd64 Packages [1,871 B]\n",
            "Get:4 http://security.ubuntu.com/ubuntu focal-security InRelease [114 kB]\n",
            "Hit:5 http://ppa.launchpad.net/c2d4u.team/c2d4u4.0+/ubuntu focal InRelease\n",
            "Ign:6 https://developer.download.nvidia.com/compute/machine-learning/repos/ubuntu2004/x86_64  InRelease\n",
            "Get:7 https://developer.download.nvidia.com/compute/cuda/repos/ubuntu2004/x86_64  InRelease [1,581 B]\n",
            "Hit:8 http://archive.ubuntu.com/ubuntu focal InRelease\n",
            "Hit:9 https://developer.download.nvidia.com/compute/machine-learning/repos/ubuntu2004/x86_64  Release\n",
            "Get:10 http://archive.ubuntu.com/ubuntu focal-updates InRelease [114 kB]\n",
            "Hit:11 http://ppa.launchpad.net/cran/libgit2/ubuntu focal InRelease\n",
            "Get:12 https://developer.download.nvidia.com/compute/cuda/repos/ubuntu2004/x86_64  Packages [870 kB]\n",
            "Hit:13 http://ppa.launchpad.net/deadsnakes/ppa/ubuntu focal InRelease\n",
            "Get:15 http://archive.ubuntu.com/ubuntu focal-backports InRelease [108 kB]\n",
            "Hit:16 http://ppa.launchpad.net/graphics-drivers/ppa/ubuntu focal InRelease\n",
            "Get:17 http://security.ubuntu.com/ubuntu focal-security/universe amd64 Packages [990 kB]\n",
            "Get:18 http://archive.ubuntu.com/ubuntu focal-updates/main amd64 Packages [2,921 kB]\n",
            "Get:19 http://security.ubuntu.com/ubuntu focal-security/main amd64 Packages [2,448 kB]\n",
            "Get:20 http://archive.ubuntu.com/ubuntu focal-updates/universe amd64 Packages [1,291 kB]\n",
            "Get:21 http://archive.ubuntu.com/ubuntu focal-backports/universe amd64 Packages [28.6 kB]\n",
            "Fetched 8,897 kB in 2s (4,790 kB/s)\n",
            "Reading package lists...\n",
            "Reading package lists...\n",
            "Building dependency tree...\n",
            "Reading state information...\n",
            "The following package was automatically installed and is no longer required:\n",
            "  libnvidia-common-510\n",
            "Use 'sudo apt autoremove' to remove it.\n",
            "The following NEW packages will be installed:\n",
            "  gcsfuse\n",
            "0 upgraded, 1 newly installed, 0 to remove and 27 not upgraded.\n",
            "Need to get 13.3 MB of archives.\n",
            "After this operation, 30.7 MB of additional disk space will be used.\n",
            "Get:1 http://packages.cloud.google.com/apt gcsfuse-focal/main amd64 gcsfuse amd64 0.41.12 [13.3 MB]\n",
            "Fetched 13.3 MB in 0s (38.6 MB/s)\n",
            "debconf: unable to initialize frontend: Dialog\n",
            "debconf: (No usable dialog-like program is installed, so the dialog based frontend cannot be used. at /usr/share/perl5/Debconf/FrontEnd/Dialog.pm line 76, <> line 1.)\n",
            "debconf: falling back to frontend: Readline\n",
            "debconf: unable to initialize frontend: Readline\n",
            "debconf: (This frontend requires a controlling tty.)\n",
            "debconf: falling back to frontend: Teletype\n",
            "dpkg-preconfigure: unable to re-open stdin: \n",
            "Selecting previously unselected package gcsfuse.\n",
            "(Reading database ... 129496 files and directories currently installed.)\n",
            "Preparing to unpack .../gcsfuse_0.41.12_amd64.deb ...\n",
            "Unpacking gcsfuse (0.41.12) ...\n",
            "Setting up gcsfuse (0.41.12) ...\n"
          ]
        }
      ]
    },
    {
      "cell_type": "code",
      "source": [
        "!mkdir -p /content/dataset"
      ],
      "metadata": {
        "id": "y3p4jc9Hrk_a"
      },
      "execution_count": 5,
      "outputs": []
    },
    {
      "cell_type": "code",
      "source": [
        "!gcsfuse --implicit-dirs --limit-bytes-per-sec -1 --limit-ops-per-sec -1 ecg12dataset /content/dataset"
      ],
      "metadata": {
        "id": "Vfj6wMJlrllf",
        "colab": {
          "base_uri": "https://localhost:8080/"
        },
        "outputId": "071f62f5-bfdb-4a6c-caa9-7ebabe6330d9"
      },
      "execution_count": 6,
      "outputs": [
        {
          "output_type": "stream",
          "name": "stdout",
          "text": [
            "2023/02/02 07:17:32.174711 Start gcsfuse/0.41.12 (Go version go1.18.4) for app \"\" using mount point: /content/dataset\n",
            "2023/02/02 07:17:32.187120 Opening GCS connection...\n",
            "2023/02/02 07:17:34.514829 Mounting file system \"ecg12dataset\"...\n",
            "2023/02/02 07:17:34.515177 File system has been successfully mounted.\n"
          ]
        }
      ]
    },
    {
      "cell_type": "markdown",
      "source": [
        "# **3. Trainning**"
      ],
      "metadata": {
        "id": "ibFjX2Nj7n4A"
      }
    },
    {
      "cell_type": "code",
      "source": [
        "# %cd /content/automatic-ecg-diagnosis\n",
        "%cd /content/ecg-age-prediction"
      ],
      "metadata": {
        "colab": {
          "base_uri": "https://localhost:8080/"
        },
        "id": "V2ZsNc3e7rxE",
        "outputId": "5a21ae8e-c6ac-4489-d9c7-43e071db4070"
      },
      "execution_count": 7,
      "outputs": [
        {
          "output_type": "stream",
          "name": "stdout",
          "text": [
            "/content/ecg-age-prediction\n"
          ]
        }
      ]
    },
    {
      "cell_type": "markdown",
      "source": [
        "## **3.1. Print model summary**"
      ],
      "metadata": {
        "id": "S3bEJDzr79xB"
      }
    },
    {
      "cell_type": "code",
      "source": [
        "!python model.py"
      ],
      "metadata": {
        "id": "KbGcd_ShrloN"
      },
      "execution_count": null,
      "outputs": []
    },
    {
      "cell_type": "markdown",
      "source": [
        "## **3.2. Training model**"
      ],
      "metadata": {
        "id": "4pusbE3-8DMY"
      }
    },
    {
      "cell_type": "code",
      "source": [
        "# !python3 train.py \\\n",
        "#          --path_to_hdf5 \"/content/dataset/exams_part0.hdf5\" \\\n",
        "#          --path_to_csv \"/content/dataset/exams.csv\""
      ],
      "metadata": {
        "id": "g88RN9J1rlq8"
      },
      "execution_count": null,
      "outputs": []
    },
    {
      "cell_type": "code",
      "source": [
        "!python3 train.py \\\n",
        "         --path_to_traces \"/content/dataset/exams_part0.hdf5\" \\\n",
        "         --path_to_csv \"/content/dataset/exams.csv\""
      ],
      "metadata": {
        "id": "5jtH1qdrFBeg"
      },
      "execution_count": null,
      "outputs": []
    },
    {
      "cell_type": "code",
      "source": [
        "import tensorflow as tf\n",
        "print(tf. __version__)"
      ],
      "metadata": {
        "colab": {
          "base_uri": "https://localhost:8080/"
        },
        "id": "JMUhWGuuD80z",
        "outputId": "ef7696f4-746e-4bc8-bdcf-93e658e8390a"
      },
      "execution_count": null,
      "outputs": [
        {
          "output_type": "stream",
          "name": "stdout",
          "text": [
            "2.2.0\n"
          ]
        }
      ]
    },
    {
      "cell_type": "code",
      "source": [],
      "metadata": {
        "id": "QLiLRFL8FBJ8"
      },
      "execution_count": null,
      "outputs": []
    },
    {
      "cell_type": "code",
      "source": [],
      "metadata": {
        "id": "W4FB0HFiFJ98"
      },
      "execution_count": null,
      "outputs": []
    },
    {
      "cell_type": "code",
      "source": [
        "import numpy as np\n",
        "import h5py"
      ],
      "metadata": {
        "id": "aaOWy_Pz1Kxd"
      },
      "execution_count": 9,
      "outputs": []
    },
    {
      "cell_type": "code",
      "source": [
        "hf = h5py.File('/content/dataset/exams_part0.hdf5', 'r')"
      ],
      "metadata": {
        "id": "VUSZq-7B1GWN"
      },
      "execution_count": 10,
      "outputs": []
    },
    {
      "cell_type": "code",
      "source": [
        "hf.keys()"
      ],
      "metadata": {
        "id": "RW2KyGnk1GZI",
        "colab": {
          "base_uri": "https://localhost:8080/"
        },
        "outputId": "6453b2c2-77eb-48f2-cef5-22dfeb9a2a53"
      },
      "execution_count": 11,
      "outputs": [
        {
          "output_type": "execute_result",
          "data": {
            "text/plain": [
              "<KeysViewHDF5 ['exam_id', 'tracings']>"
            ]
          },
          "metadata": {},
          "execution_count": 11
        }
      ]
    },
    {
      "cell_type": "markdown",
      "source": [
        "**input:** shape = (N, 4096, 12). The input tensor should contain the 4096 points of the ECG tracings sampled at 400Hz (i.e., a signal of approximately 10 seconds). Both in the training and in the test set, when the signal was not long enough, we filled the signal with zeros, so 4096 points were attained. The last dimension of the tensor contains points of the 12 different leads. The leads are ordered in the following order: {DI, DII, DIII, AVR, AVL, AVF, V1, V2, V3, V4, V5, V6}. All signal are represented as 32 bits floating point numbers at the scale 1e-4V: so if the signal is in V it should be multiplied by 1000 before feeding it to the neural network model."
      ],
      "metadata": {
        "id": "2BA8c34l1dgS"
      }
    },
    {
      "cell_type": "code",
      "source": [
        "n1 = hf['tracings']\n",
        "n1"
      ],
      "metadata": {
        "colab": {
          "base_uri": "https://localhost:8080/"
        },
        "id": "V6jijQsy1MVS",
        "outputId": "6d400a55-3499-4595-e4cc-f708f851f7ca"
      },
      "execution_count": 12,
      "outputs": [
        {
          "output_type": "execute_result",
          "data": {
            "text/plain": [
              "<HDF5 dataset \"tracings\": shape (20001, 4096, 12), type \"<f4\">"
            ]
          },
          "metadata": {},
          "execution_count": 12
        }
      ]
    },
    {
      "cell_type": "code",
      "source": [
        "n1[0:5, :, :]"
      ],
      "metadata": {
        "id": "IQZrhxjR1zoZ",
        "colab": {
          "base_uri": "https://localhost:8080/"
        },
        "outputId": "6d7e9781-1a11-4708-e8a4-a66ee7cc5477"
      },
      "execution_count": 13,
      "outputs": [
        {
          "output_type": "execute_result",
          "data": {
            "text/plain": [
              "array([[[-4.8781034e-01, -2.6677129e-01,  2.2103906e-01, ...,\n",
              "         -1.1737937e+00, -5.5640870e-01, -4.8781034e-01],\n",
              "        [-4.8106578e-01, -2.6019633e-01,  2.2086945e-01, ...,\n",
              "         -1.1674997e+00, -5.5151391e-01, -4.8232922e-01],\n",
              "        [-4.7979322e-01, -2.5791711e-01,  2.2187607e-01, ...,\n",
              "         -1.1599243e+00, -5.4229915e-01, -4.7729760e-01],\n",
              "        ...,\n",
              "        [-1.3724924e+00, -1.2811700e+00,  9.1322273e-02, ...,\n",
              "         -8.7824506e-01, -5.0396240e-01,  8.5938675e-04],\n",
              "        [-1.3667058e+00, -1.2758980e+00,  9.0807825e-02, ...,\n",
              "         -8.6861408e-01, -4.9709535e-01,  1.6935735e-03],\n",
              "        [-1.3614640e+00, -1.2694675e+00,  9.1996796e-02, ...,\n",
              "         -8.5737538e-01, -4.8235169e-01,  1.0566236e-02]],\n",
              "\n",
              "       [[ 4.7104187e+00,  3.4908926e+00, -1.2195258e+00, ...,\n",
              "         -2.7439332e-01,  6.4787310e-01,  1.1128174e+00],\n",
              "        [ 4.7069054e+00,  3.4883175e+00, -1.2185876e+00, ...,\n",
              "         -2.7435562e-01,  6.4121950e-01,  1.1126217e+00],\n",
              "        [ 4.7019477e+00,  3.4869583e+00, -1.2149894e+00, ...,\n",
              "         -2.7643222e-01,  6.3891876e-01,  1.1082902e+00],\n",
              "        ...,\n",
              "        [ 3.2337718e+00,  1.3490096e+00, -1.8847623e+00, ...,\n",
              "         -1.0202482e+00, -1.3055870e-01, -6.6891944e-01],\n",
              "        [ 3.2412338e+00,  1.3439417e+00, -1.8972923e+00, ...,\n",
              "         -1.0202823e+00, -1.2718490e-01, -6.7022973e-01],\n",
              "        [ 3.2448351e+00,  1.3389999e+00, -1.9058354e+00, ...,\n",
              "         -1.0213133e+00, -1.3284931e-01, -6.7119771e-01]],\n",
              "\n",
              "       [[ 0.0000000e+00,  0.0000000e+00,  0.0000000e+00, ...,\n",
              "          0.0000000e+00,  0.0000000e+00,  0.0000000e+00],\n",
              "        [ 0.0000000e+00,  0.0000000e+00,  0.0000000e+00, ...,\n",
              "          0.0000000e+00,  0.0000000e+00,  0.0000000e+00],\n",
              "        [ 0.0000000e+00,  0.0000000e+00,  0.0000000e+00, ...,\n",
              "          0.0000000e+00,  0.0000000e+00,  0.0000000e+00],\n",
              "        ...,\n",
              "        [ 0.0000000e+00,  0.0000000e+00,  0.0000000e+00, ...,\n",
              "          0.0000000e+00,  0.0000000e+00,  0.0000000e+00],\n",
              "        [ 0.0000000e+00,  0.0000000e+00,  0.0000000e+00, ...,\n",
              "          0.0000000e+00,  0.0000000e+00,  0.0000000e+00],\n",
              "        [ 0.0000000e+00,  0.0000000e+00,  0.0000000e+00, ...,\n",
              "          0.0000000e+00,  0.0000000e+00,  0.0000000e+00]],\n",
              "\n",
              "       [[ 4.8018831e-01, -6.7683682e+00, -7.2485566e+00, ...,\n",
              "          1.5015411e+00,  1.4558090e+00,  1.2728802e+00],\n",
              "        [ 4.8334160e-01, -6.7672701e+00, -7.2506113e+00, ...,\n",
              "          1.5019921e+00,  1.4563375e+00,  1.2656922e+00],\n",
              "        [ 4.9175355e-01, -6.7508121e+00, -7.2425652e+00, ...,\n",
              "          1.4943564e+00,  1.4485141e+00,  1.2627388e+00],\n",
              "        ...,\n",
              "        [ 9.2783332e-01, -1.4571486e+00, -2.3849819e+00, ...,\n",
              "         -7.1377689e-01, -9.7209734e-01, -1.2167633e+00],\n",
              "        [ 9.3000132e-01, -1.4513104e+00, -2.3813117e+00, ...,\n",
              "         -7.1973217e-01, -9.8220402e-01, -1.2210958e+00],\n",
              "        [ 9.2809379e-01, -1.4582516e+00, -2.3863454e+00, ...,\n",
              "         -7.2532159e-01, -9.9284911e-01, -1.2300518e+00]],\n",
              "\n",
              "       [[-1.5625175e+00, -1.6387378e+00, -7.6220363e-02, ...,\n",
              "          6.9360536e-01,  4.9543238e-01,  7.4695957e-01],\n",
              "        [-1.5739725e+00, -1.6495802e+00, -7.5607724e-02, ...,\n",
              "          7.0438379e-01,  4.9932498e-01,  7.4611896e-01],\n",
              "        [-1.5801722e+00, -1.6569895e+00, -7.6817349e-02, ...,\n",
              "          7.0913869e-01,  5.0390136e-01,  7.4227172e-01],\n",
              "        ...,\n",
              "        [-1.2763101e+00, -1.2988790e+00, -2.2568841e-02, ...,\n",
              "          7.1244232e-02,  3.0129093e-01,  3.6669746e-01],\n",
              "        [-1.2868772e+00, -1.3104533e+00, -2.3576094e-02, ...,\n",
              "          6.3567303e-02,  2.9117405e-01,  3.6803910e-01],\n",
              "        [-1.2983373e+00, -1.3197972e+00, -2.1459922e-02, ...,\n",
              "          6.0594924e-02,  2.8931168e-01,  3.7450576e-01]]], dtype=float32)"
            ]
          },
          "metadata": {},
          "execution_count": 13
        }
      ]
    },
    {
      "cell_type": "code",
      "source": [],
      "metadata": {
        "id": "9UPYyyAv3NCq"
      },
      "execution_count": null,
      "outputs": []
    },
    {
      "cell_type": "code",
      "source": [
        "import pandas as pd"
      ],
      "metadata": {
        "id": "aFxdlTnn30W0"
      },
      "execution_count": null,
      "outputs": []
    },
    {
      "cell_type": "code",
      "source": [
        "y = pd.read_csv(\"/content/dataset/exams.csv\").values      "
      ],
      "metadata": {
        "id": "4d_aAHOQ30ZH"
      },
      "execution_count": null,
      "outputs": []
    },
    {
      "cell_type": "code",
      "source": [
        "y[:, 4:10]"
      ],
      "metadata": {
        "id": "f9AVZD4Z38Wb"
      },
      "execution_count": null,
      "outputs": []
    },
    {
      "cell_type": "code",
      "source": [
        "y1 = np.array(y)\n",
        "y1.shape"
      ],
      "metadata": {
        "id": "1UxYv-0Y3-E7"
      },
      "execution_count": null,
      "outputs": []
    },
    {
      "cell_type": "code",
      "source": [],
      "metadata": {
        "id": "t0pLk6Nv5CU9"
      },
      "execution_count": null,
      "outputs": []
    },
    {
      "cell_type": "code",
      "source": [],
      "metadata": {
        "id": "U4-8Od0LY_0p"
      },
      "execution_count": null,
      "outputs": []
    },
    {
      "cell_type": "code",
      "source": [
        "import h5py\n",
        "import numpy as np\n",
        "import pandas as pd\n",
        "import matplotlib.pyplot as plt\n",
        "from sklearn.metrics import (confusion_matrix,\n",
        "                             precision_score, recall_score, f1_score,\n",
        "                             precision_recall_curve, average_precision_score)"
      ],
      "metadata": {
        "id": "RyJk6fwOY_2x"
      },
      "execution_count": null,
      "outputs": []
    },
    {
      "cell_type": "code",
      "source": [
        "with h5py.File(\"/content/ecg-diagnosis-deep-learning/data/ecg_tracings.hdf5\", \"r\") as f:\n",
        "    x = np.array(f['tracings'])\n",
        "print(\"Test dataset dimension:\", x.shape)"
      ],
      "metadata": {
        "id": "q1wIRXgGZCZP"
      },
      "execution_count": null,
      "outputs": []
    },
    {
      "cell_type": "code",
      "source": [
        "plt.title('ECG Signal')\n",
        "plt.plot(x[12])\n",
        "plt.show()"
      ],
      "metadata": {
        "id": "JodBqVaYZCbd"
      },
      "execution_count": null,
      "outputs": []
    },
    {
      "cell_type": "code",
      "source": [
        "y = np.load('dnn_output.npy')\n",
        "print(\"Output dataset dimension for test data:\", y.shape)"
      ],
      "metadata": {
        "id": "qeuE201CZIfS"
      },
      "execution_count": null,
      "outputs": []
    },
    {
      "cell_type": "code",
      "source": [],
      "metadata": {
        "id": "jaY8PShjZIhu"
      },
      "execution_count": null,
      "outputs": []
    },
    {
      "cell_type": "code",
      "source": [],
      "metadata": {
        "id": "80XG2vZZZIkH"
      },
      "execution_count": null,
      "outputs": []
    }
  ],
  "metadata": {
    "accelerator": "GPU",
    "colab": {
      "provenance": [],
      "machine_shape": "hm"
    },
    "kernelspec": {
      "display_name": "Python 3",
      "name": "python3"
    },
    "language_info": {
      "name": "python"
    },
    "gpuClass": "premium"
  },
  "nbformat": 4,
  "nbformat_minor": 0
}